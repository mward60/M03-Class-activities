{
 "cells": [
  {
   "cell_type": "code",
   "execution_count": 9,
   "id": "413e7546",
   "metadata": {},
   "outputs": [
    {
     "name": "stdout",
     "output_type": "stream",
     "text": [
      "Shane Phillips        3b      .323\n",
      "Jorge Olivero         2b      .290\n",
      "Chen Ho Wong          ss      .298\n",
      "Ned Foster            1b      .305\n",
      "Tony Ramundo          c       .345\n"
     ]
    }
   ],
   "source": [
    "# Creates a list of baseball players by iterating over multiple swquences in parallel.\n",
    "\n",
    "playersList = ['Shane Phillips', 'Jorge Olivero', 'Chen Ho Wong', 'Ned Foster']\n",
    "positions = ['3b', '2b', 'ss', '1b']\n",
    "averages = ['.323', '.290', '.298', '.305']\n",
    "\n",
    "#append one more player\n",
    "playersList.append('Tony Ramundo')\n",
    "positions.append('c')\n",
    "averages.append('.345')\n",
    "\n",
    "\n",
    "for player, positions, average in zip(playersList, positions, averages):\n",
    "    print(\"{: <20}  {:<5}  {:>5}\".format(player, positions, average))\n",
    "    "
   ]
  },
  {
   "cell_type": "code",
   "execution_count": null,
   "id": "c59f4db0",
   "metadata": {},
   "outputs": [],
   "source": []
  }
 ],
 "metadata": {
  "kernelspec": {
   "display_name": "Python 3 (ipykernel)",
   "language": "python",
   "name": "python3"
  },
  "language_info": {
   "codemirror_mode": {
    "name": "ipython",
    "version": 3
   },
   "file_extension": ".py",
   "mimetype": "text/x-python",
   "name": "python",
   "nbconvert_exporter": "python",
   "pygments_lexer": "ipython3",
   "version": "3.9.13"
  }
 },
 "nbformat": 4,
 "nbformat_minor": 5
}
