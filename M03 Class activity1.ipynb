{
 "cells": [
  {
   "cell_type": "code",
   "execution_count": 1,
   "id": "11510dbb",
   "metadata": {},
   "outputs": [
    {
     "name": "stdout",
     "output_type": "stream",
     "text": [
      "Is this year a leap year? Y or N -->n\n",
      "\n",
      "The numbers of days for each month this year are: \n",
      "\n",
      "January  has  31  days \n",
      "February  has  28  days \n",
      "March  has  31  days \n",
      "April  has  30  days \n",
      "May  has  31  days \n",
      "June  has  30  days \n",
      "July  has  31  days \n",
      "August  has  31  days \n",
      "September  has  30  days \n",
      "October  has  31  days \n",
      "November  has  30  days \n",
      "December  has  31  days \n"
     ]
    }
   ],
   "source": [
    "#Megen Ward\n",
    "#Class activity M03\n",
    "month = ['January', 'February', 'March', 'April', 'May','June','July','August','September','October','November','December']\n",
    "daysPerMonth = [31, 28, 31, 30, 31, 30, 31, 31, 30 , 31, 30, 31]\n",
    "leapYear = input(\"Is this year a leap year? Y or N -->\")\n",
    "print()\n",
    "if(leapYear.upper() ==\"Y\"):\n",
    "   daysPerMonth[1] += 1\n",
    "print(\"The numbers of days for each month this year are: \")\n",
    "print()\n",
    "for i in range (0,12):\n",
    "   print(month[i], \" has \", daysPerMonth[i],\" days \")\n",
    "   "
   ]
  },
  {
   "cell_type": "code",
   "execution_count": null,
   "id": "ecccfe1a",
   "metadata": {},
   "outputs": [],
   "source": []
  }
 ],
 "metadata": {
  "kernelspec": {
   "display_name": "Python 3 (ipykernel)",
   "language": "python",
   "name": "python3"
  },
  "language_info": {
   "codemirror_mode": {
    "name": "ipython",
    "version": 3
   },
   "file_extension": ".py",
   "mimetype": "text/x-python",
   "name": "python",
   "nbconvert_exporter": "python",
   "pygments_lexer": "ipython3",
   "version": "3.9.13"
  }
 },
 "nbformat": 4,
 "nbformat_minor": 5
}
